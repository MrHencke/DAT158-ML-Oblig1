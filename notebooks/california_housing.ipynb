{
 "cells": [
  {
   "cell_type": "markdown",
   "source": [
    "## Setup"
   ],
   "metadata": {}
  },
  {
   "cell_type": "code",
   "execution_count": 176,
   "source": [
    "%matplotlib inline\r\n",
    "from math import sqrt\r\n",
    "import numpy as np\r\n",
    "import pandas as pd\r\n",
    "import matplotlib.pyplot as plt\r\n",
    "from sklearn import datasets, linear_model, tree, preprocessing\r\n",
    "from sklearn.metrics import mean_squared_error, r2_score\r\n",
    "import seaborn as sns"
   ],
   "outputs": [],
   "metadata": {}
  },
  {
   "cell_type": "markdown",
   "source": [
    "## Data"
   ],
   "metadata": {}
  },
  {
   "cell_type": "code",
   "execution_count": 177,
   "source": [
    "# lists the files in the folder\r\n",
    "import os\r\n",
    "print(os.listdir(\"data\"))"
   ],
   "outputs": [
    {
     "output_type": "stream",
     "name": "stdout",
     "text": [
      "['sample_submission.csv', 'test.csv', 'train.csv']\n"
     ]
    }
   ],
   "metadata": {}
  },
  {
   "cell_type": "code",
   "execution_count": 178,
   "source": [
    "# Reads in the csv-files and creates a dataframe using pandas\r\n",
    "train = pd.read_csv('data/train.csv')\r\n",
    "test = pd.read_csv('data/test.csv')\r\n",
    "sample_submission = pd.read_csv('data/sample_submission.csv')"
   ],
   "outputs": [],
   "metadata": {}
  },
  {
   "cell_type": "markdown",
   "source": [
    "## Understanding the data"
   ],
   "metadata": {}
  },
  {
   "cell_type": "code",
   "execution_count": 179,
   "source": [
    "train.head()"
   ],
   "outputs": [
    {
     "output_type": "execute_result",
     "data": {
      "text/html": [
       "<div>\n",
       "<style scoped>\n",
       "    .dataframe tbody tr th:only-of-type {\n",
       "        vertical-align: middle;\n",
       "    }\n",
       "\n",
       "    .dataframe tbody tr th {\n",
       "        vertical-align: top;\n",
       "    }\n",
       "\n",
       "    .dataframe thead th {\n",
       "        text-align: right;\n",
       "    }\n",
       "</style>\n",
       "<table border=\"1\" class=\"dataframe\">\n",
       "  <thead>\n",
       "    <tr style=\"text-align: right;\">\n",
       "      <th></th>\n",
       "      <th>longitude</th>\n",
       "      <th>latitude</th>\n",
       "      <th>housing_median_age</th>\n",
       "      <th>total_rooms</th>\n",
       "      <th>total_bedrooms</th>\n",
       "      <th>population</th>\n",
       "      <th>households</th>\n",
       "      <th>median_income</th>\n",
       "      <th>median_house_value</th>\n",
       "      <th>ocean_proximity</th>\n",
       "    </tr>\n",
       "  </thead>\n",
       "  <tbody>\n",
       "    <tr>\n",
       "      <th>0</th>\n",
       "      <td>-122.13</td>\n",
       "      <td>37.67</td>\n",
       "      <td>40.0</td>\n",
       "      <td>1748.0</td>\n",
       "      <td>318.0</td>\n",
       "      <td>914.0</td>\n",
       "      <td>317.0</td>\n",
       "      <td>3.8676</td>\n",
       "      <td>184000.0</td>\n",
       "      <td>NEAR BAY</td>\n",
       "    </tr>\n",
       "    <tr>\n",
       "      <th>1</th>\n",
       "      <td>-120.98</td>\n",
       "      <td>37.65</td>\n",
       "      <td>40.0</td>\n",
       "      <td>422.0</td>\n",
       "      <td>63.0</td>\n",
       "      <td>158.0</td>\n",
       "      <td>63.0</td>\n",
       "      <td>7.3841</td>\n",
       "      <td>172200.0</td>\n",
       "      <td>INLAND</td>\n",
       "    </tr>\n",
       "    <tr>\n",
       "      <th>2</th>\n",
       "      <td>-118.37</td>\n",
       "      <td>33.87</td>\n",
       "      <td>23.0</td>\n",
       "      <td>1829.0</td>\n",
       "      <td>331.0</td>\n",
       "      <td>891.0</td>\n",
       "      <td>356.0</td>\n",
       "      <td>6.5755</td>\n",
       "      <td>359900.0</td>\n",
       "      <td>&lt;1H OCEAN</td>\n",
       "    </tr>\n",
       "    <tr>\n",
       "      <th>3</th>\n",
       "      <td>-117.89</td>\n",
       "      <td>33.90</td>\n",
       "      <td>23.0</td>\n",
       "      <td>1533.0</td>\n",
       "      <td>226.0</td>\n",
       "      <td>693.0</td>\n",
       "      <td>230.0</td>\n",
       "      <td>7.8980</td>\n",
       "      <td>258200.0</td>\n",
       "      <td>&lt;1H OCEAN</td>\n",
       "    </tr>\n",
       "    <tr>\n",
       "      <th>4</th>\n",
       "      <td>-122.40</td>\n",
       "      <td>37.76</td>\n",
       "      <td>52.0</td>\n",
       "      <td>1529.0</td>\n",
       "      <td>385.0</td>\n",
       "      <td>1347.0</td>\n",
       "      <td>348.0</td>\n",
       "      <td>2.9312</td>\n",
       "      <td>239100.0</td>\n",
       "      <td>NEAR BAY</td>\n",
       "    </tr>\n",
       "  </tbody>\n",
       "</table>\n",
       "</div>"
      ],
      "text/plain": [
       "   longitude  latitude  housing_median_age  total_rooms  total_bedrooms  \\\n",
       "0    -122.13     37.67                40.0       1748.0           318.0   \n",
       "1    -120.98     37.65                40.0        422.0            63.0   \n",
       "2    -118.37     33.87                23.0       1829.0           331.0   \n",
       "3    -117.89     33.90                23.0       1533.0           226.0   \n",
       "4    -122.40     37.76                52.0       1529.0           385.0   \n",
       "\n",
       "   population  households  median_income  median_house_value ocean_proximity  \n",
       "0       914.0       317.0         3.8676            184000.0        NEAR BAY  \n",
       "1       158.0        63.0         7.3841            172200.0          INLAND  \n",
       "2       891.0       356.0         6.5755            359900.0       <1H OCEAN  \n",
       "3       693.0       230.0         7.8980            258200.0       <1H OCEAN  \n",
       "4      1347.0       348.0         2.9312            239100.0        NEAR BAY  "
      ]
     },
     "metadata": {},
     "execution_count": 179
    }
   ],
   "metadata": {}
  },
  {
   "cell_type": "code",
   "execution_count": 180,
   "source": [
    "test.head()"
   ],
   "outputs": [
    {
     "output_type": "execute_result",
     "data": {
      "text/html": [
       "<div>\n",
       "<style scoped>\n",
       "    .dataframe tbody tr th:only-of-type {\n",
       "        vertical-align: middle;\n",
       "    }\n",
       "\n",
       "    .dataframe tbody tr th {\n",
       "        vertical-align: top;\n",
       "    }\n",
       "\n",
       "    .dataframe thead th {\n",
       "        text-align: right;\n",
       "    }\n",
       "</style>\n",
       "<table border=\"1\" class=\"dataframe\">\n",
       "  <thead>\n",
       "    <tr style=\"text-align: right;\">\n",
       "      <th></th>\n",
       "      <th>Id</th>\n",
       "      <th>longitude</th>\n",
       "      <th>latitude</th>\n",
       "      <th>housing_median_age</th>\n",
       "      <th>total_rooms</th>\n",
       "      <th>total_bedrooms</th>\n",
       "      <th>population</th>\n",
       "      <th>households</th>\n",
       "      <th>median_income</th>\n",
       "      <th>ocean_proximity</th>\n",
       "    </tr>\n",
       "  </thead>\n",
       "  <tbody>\n",
       "    <tr>\n",
       "      <th>0</th>\n",
       "      <td>0</td>\n",
       "      <td>-122.27</td>\n",
       "      <td>37.87</td>\n",
       "      <td>35.0</td>\n",
       "      <td>3218.0</td>\n",
       "      <td>1108.0</td>\n",
       "      <td>1675.0</td>\n",
       "      <td>1000.0</td>\n",
       "      <td>1.7464</td>\n",
       "      <td>NEAR BAY</td>\n",
       "    </tr>\n",
       "    <tr>\n",
       "      <th>1</th>\n",
       "      <td>1</td>\n",
       "      <td>-118.94</td>\n",
       "      <td>34.18</td>\n",
       "      <td>24.0</td>\n",
       "      <td>3689.0</td>\n",
       "      <td>585.0</td>\n",
       "      <td>1898.0</td>\n",
       "      <td>581.0</td>\n",
       "      <td>5.9224</td>\n",
       "      <td>&lt;1H OCEAN</td>\n",
       "    </tr>\n",
       "    <tr>\n",
       "      <th>2</th>\n",
       "      <td>2</td>\n",
       "      <td>-119.75</td>\n",
       "      <td>36.77</td>\n",
       "      <td>32.0</td>\n",
       "      <td>1962.0</td>\n",
       "      <td>399.0</td>\n",
       "      <td>1005.0</td>\n",
       "      <td>392.0</td>\n",
       "      <td>2.6726</td>\n",
       "      <td>INLAND</td>\n",
       "    </tr>\n",
       "    <tr>\n",
       "      <th>3</th>\n",
       "      <td>3</td>\n",
       "      <td>-118.34</td>\n",
       "      <td>33.93</td>\n",
       "      <td>32.0</td>\n",
       "      <td>1254.0</td>\n",
       "      <td>399.0</td>\n",
       "      <td>1281.0</td>\n",
       "      <td>386.0</td>\n",
       "      <td>2.2976</td>\n",
       "      <td>&lt;1H OCEAN</td>\n",
       "    </tr>\n",
       "    <tr>\n",
       "      <th>4</th>\n",
       "      <td>4</td>\n",
       "      <td>-119.00</td>\n",
       "      <td>35.36</td>\n",
       "      <td>35.0</td>\n",
       "      <td>1021.0</td>\n",
       "      <td>280.0</td>\n",
       "      <td>1258.0</td>\n",
       "      <td>239.0</td>\n",
       "      <td>1.7375</td>\n",
       "      <td>INLAND</td>\n",
       "    </tr>\n",
       "  </tbody>\n",
       "</table>\n",
       "</div>"
      ],
      "text/plain": [
       "   Id  longitude  latitude  housing_median_age  total_rooms  total_bedrooms  \\\n",
       "0   0    -122.27     37.87                35.0       3218.0          1108.0   \n",
       "1   1    -118.94     34.18                24.0       3689.0           585.0   \n",
       "2   2    -119.75     36.77                32.0       1962.0           399.0   \n",
       "3   3    -118.34     33.93                32.0       1254.0           399.0   \n",
       "4   4    -119.00     35.36                35.0       1021.0           280.0   \n",
       "\n",
       "   population  households  median_income ocean_proximity  \n",
       "0      1675.0      1000.0         1.7464        NEAR BAY  \n",
       "1      1898.0       581.0         5.9224       <1H OCEAN  \n",
       "2      1005.0       392.0         2.6726          INLAND  \n",
       "3      1281.0       386.0         2.2976       <1H OCEAN  \n",
       "4      1258.0       239.0         1.7375          INLAND  "
      ]
     },
     "metadata": {},
     "execution_count": 180
    }
   ],
   "metadata": {}
  },
  {
   "cell_type": "code",
   "execution_count": 181,
   "source": [
    "train.info()"
   ],
   "outputs": [
    {
     "output_type": "stream",
     "name": "stdout",
     "text": [
      "<class 'pandas.core.frame.DataFrame'>\n",
      "RangeIndex: 16512 entries, 0 to 16511\n",
      "Data columns (total 10 columns):\n",
      " #   Column              Non-Null Count  Dtype  \n",
      "---  ------              --------------  -----  \n",
      " 0   longitude           16512 non-null  float64\n",
      " 1   latitude            16512 non-null  float64\n",
      " 2   housing_median_age  16512 non-null  float64\n",
      " 3   total_rooms         16512 non-null  float64\n",
      " 4   total_bedrooms      16344 non-null  float64\n",
      " 5   population          16512 non-null  float64\n",
      " 6   households          16512 non-null  float64\n",
      " 7   median_income       16512 non-null  float64\n",
      " 8   median_house_value  16512 non-null  float64\n",
      " 9   ocean_proximity     16512 non-null  object \n",
      "dtypes: float64(9), object(1)\n",
      "memory usage: 1.3+ MB\n"
     ]
    }
   ],
   "metadata": {}
  },
  {
   "cell_type": "code",
   "execution_count": 182,
   "source": [
    "test.info()"
   ],
   "outputs": [
    {
     "output_type": "stream",
     "name": "stdout",
     "text": [
      "<class 'pandas.core.frame.DataFrame'>\n",
      "RangeIndex: 4128 entries, 0 to 4127\n",
      "Data columns (total 10 columns):\n",
      " #   Column              Non-Null Count  Dtype  \n",
      "---  ------              --------------  -----  \n",
      " 0   Id                  4128 non-null   int64  \n",
      " 1   longitude           4128 non-null   float64\n",
      " 2   latitude            4128 non-null   float64\n",
      " 3   housing_median_age  4128 non-null   float64\n",
      " 4   total_rooms         4128 non-null   float64\n",
      " 5   total_bedrooms      4089 non-null   float64\n",
      " 6   population          4128 non-null   float64\n",
      " 7   households          4128 non-null   float64\n",
      " 8   median_income       4128 non-null   float64\n",
      " 9   ocean_proximity     4128 non-null   object \n",
      "dtypes: float64(8), int64(1), object(1)\n",
      "memory usage: 322.6+ KB\n"
     ]
    }
   ],
   "metadata": {}
  },
  {
   "cell_type": "code",
   "execution_count": 183,
   "source": [
    "train.describe()"
   ],
   "outputs": [
    {
     "output_type": "execute_result",
     "data": {
      "text/html": [
       "<div>\n",
       "<style scoped>\n",
       "    .dataframe tbody tr th:only-of-type {\n",
       "        vertical-align: middle;\n",
       "    }\n",
       "\n",
       "    .dataframe tbody tr th {\n",
       "        vertical-align: top;\n",
       "    }\n",
       "\n",
       "    .dataframe thead th {\n",
       "        text-align: right;\n",
       "    }\n",
       "</style>\n",
       "<table border=\"1\" class=\"dataframe\">\n",
       "  <thead>\n",
       "    <tr style=\"text-align: right;\">\n",
       "      <th></th>\n",
       "      <th>longitude</th>\n",
       "      <th>latitude</th>\n",
       "      <th>housing_median_age</th>\n",
       "      <th>total_rooms</th>\n",
       "      <th>total_bedrooms</th>\n",
       "      <th>population</th>\n",
       "      <th>households</th>\n",
       "      <th>median_income</th>\n",
       "      <th>median_house_value</th>\n",
       "    </tr>\n",
       "  </thead>\n",
       "  <tbody>\n",
       "    <tr>\n",
       "      <th>count</th>\n",
       "      <td>16512.000000</td>\n",
       "      <td>16512.000000</td>\n",
       "      <td>16512.000000</td>\n",
       "      <td>16512.000000</td>\n",
       "      <td>16344.000000</td>\n",
       "      <td>16512.000000</td>\n",
       "      <td>16512.000000</td>\n",
       "      <td>16512.000000</td>\n",
       "      <td>16512.000000</td>\n",
       "    </tr>\n",
       "    <tr>\n",
       "      <th>mean</th>\n",
       "      <td>-119.568763</td>\n",
       "      <td>35.630270</td>\n",
       "      <td>28.714571</td>\n",
       "      <td>2636.885841</td>\n",
       "      <td>537.999755</td>\n",
       "      <td>1425.131783</td>\n",
       "      <td>499.837936</td>\n",
       "      <td>3.871083</td>\n",
       "      <td>207262.390080</td>\n",
       "    </tr>\n",
       "    <tr>\n",
       "      <th>std</th>\n",
       "      <td>2.003747</td>\n",
       "      <td>2.137134</td>\n",
       "      <td>12.589203</td>\n",
       "      <td>2195.840228</td>\n",
       "      <td>422.944167</td>\n",
       "      <td>1126.453504</td>\n",
       "      <td>383.400473</td>\n",
       "      <td>1.909994</td>\n",
       "      <td>115838.329585</td>\n",
       "    </tr>\n",
       "    <tr>\n",
       "      <th>min</th>\n",
       "      <td>-124.350000</td>\n",
       "      <td>32.540000</td>\n",
       "      <td>1.000000</td>\n",
       "      <td>6.000000</td>\n",
       "      <td>1.000000</td>\n",
       "      <td>3.000000</td>\n",
       "      <td>1.000000</td>\n",
       "      <td>0.499900</td>\n",
       "      <td>14999.000000</td>\n",
       "    </tr>\n",
       "    <tr>\n",
       "      <th>25%</th>\n",
       "      <td>-121.790000</td>\n",
       "      <td>33.930000</td>\n",
       "      <td>18.000000</td>\n",
       "      <td>1445.000000</td>\n",
       "      <td>295.000000</td>\n",
       "      <td>787.000000</td>\n",
       "      <td>279.000000</td>\n",
       "      <td>2.562500</td>\n",
       "      <td>120000.000000</td>\n",
       "    </tr>\n",
       "    <tr>\n",
       "      <th>50%</th>\n",
       "      <td>-118.490000</td>\n",
       "      <td>34.260000</td>\n",
       "      <td>29.000000</td>\n",
       "      <td>2122.500000</td>\n",
       "      <td>434.000000</td>\n",
       "      <td>1163.000000</td>\n",
       "      <td>409.000000</td>\n",
       "      <td>3.529450</td>\n",
       "      <td>180400.000000</td>\n",
       "    </tr>\n",
       "    <tr>\n",
       "      <th>75%</th>\n",
       "      <td>-118.010000</td>\n",
       "      <td>37.710000</td>\n",
       "      <td>37.000000</td>\n",
       "      <td>3137.000000</td>\n",
       "      <td>646.000000</td>\n",
       "      <td>1723.000000</td>\n",
       "      <td>603.000000</td>\n",
       "      <td>4.746450</td>\n",
       "      <td>265100.000000</td>\n",
       "    </tr>\n",
       "    <tr>\n",
       "      <th>max</th>\n",
       "      <td>-114.310000</td>\n",
       "      <td>41.950000</td>\n",
       "      <td>52.000000</td>\n",
       "      <td>39320.000000</td>\n",
       "      <td>6210.000000</td>\n",
       "      <td>35682.000000</td>\n",
       "      <td>5358.000000</td>\n",
       "      <td>15.000100</td>\n",
       "      <td>500001.000000</td>\n",
       "    </tr>\n",
       "  </tbody>\n",
       "</table>\n",
       "</div>"
      ],
      "text/plain": [
       "          longitude      latitude  housing_median_age   total_rooms  \\\n",
       "count  16512.000000  16512.000000        16512.000000  16512.000000   \n",
       "mean    -119.568763     35.630270           28.714571   2636.885841   \n",
       "std        2.003747      2.137134           12.589203   2195.840228   \n",
       "min     -124.350000     32.540000            1.000000      6.000000   \n",
       "25%     -121.790000     33.930000           18.000000   1445.000000   \n",
       "50%     -118.490000     34.260000           29.000000   2122.500000   \n",
       "75%     -118.010000     37.710000           37.000000   3137.000000   \n",
       "max     -114.310000     41.950000           52.000000  39320.000000   \n",
       "\n",
       "       total_bedrooms    population    households  median_income  \\\n",
       "count    16344.000000  16512.000000  16512.000000   16512.000000   \n",
       "mean       537.999755   1425.131783    499.837936       3.871083   \n",
       "std        422.944167   1126.453504    383.400473       1.909994   \n",
       "min          1.000000      3.000000      1.000000       0.499900   \n",
       "25%        295.000000    787.000000    279.000000       2.562500   \n",
       "50%        434.000000   1163.000000    409.000000       3.529450   \n",
       "75%        646.000000   1723.000000    603.000000       4.746450   \n",
       "max       6210.000000  35682.000000   5358.000000      15.000100   \n",
       "\n",
       "       median_house_value  \n",
       "count        16512.000000  \n",
       "mean        207262.390080  \n",
       "std         115838.329585  \n",
       "min          14999.000000  \n",
       "25%         120000.000000  \n",
       "50%         180400.000000  \n",
       "75%         265100.000000  \n",
       "max         500001.000000  "
      ]
     },
     "metadata": {},
     "execution_count": 183
    }
   ],
   "metadata": {}
  },
  {
   "cell_type": "code",
   "execution_count": 184,
   "source": [
    "train.hist(bins=50, figsize=(20,15))"
   ],
   "outputs": [
    {
     "output_type": "execute_result",
     "data": {
      "text/plain": [
       "array([[<AxesSubplot:title={'center':'longitude'}>,\n",
       "        <AxesSubplot:title={'center':'latitude'}>,\n",
       "        <AxesSubplot:title={'center':'housing_median_age'}>],\n",
       "       [<AxesSubplot:title={'center':'total_rooms'}>,\n",
       "        <AxesSubplot:title={'center':'total_bedrooms'}>,\n",
       "        <AxesSubplot:title={'center':'population'}>],\n",
       "       [<AxesSubplot:title={'center':'households'}>,\n",
       "        <AxesSubplot:title={'center':'median_income'}>,\n",
       "        <AxesSubplot:title={'center':'median_house_value'}>]],\n",
       "      dtype=object)"
      ]
     },
     "metadata": {},
     "execution_count": 184
    },
    {
     "output_type": "display_data",
     "data": {
      "image/png": "[encoded data removed]",
      "text/plain": [
       "<Figure size 1440x1080 with 9 Axes>"
      ]
     },
     "metadata": {
      "needs_background": "light"
     }
    }
   ],
   "metadata": {}
  },
  {
   "cell_type": "code",
   "execution_count": 185,
   "source": [
    "test.hist(bins=50, figsize=(20,15))"
   ],
   "outputs": [
    {
     "output_type": "execute_result",
     "data": {
      "text/plain": [
       "array([[<AxesSubplot:title={'center':'Id'}>,\n",
       "        <AxesSubplot:title={'center':'longitude'}>,\n",
       "        <AxesSubplot:title={'center':'latitude'}>],\n",
       "       [<AxesSubplot:title={'center':'housing_median_age'}>,\n",
       "        <AxesSubplot:title={'center':'total_rooms'}>,\n",
       "        <AxesSubplot:title={'center':'total_bedrooms'}>],\n",
       "       [<AxesSubplot:title={'center':'population'}>,\n",
       "        <AxesSubplot:title={'center':'households'}>,\n",
       "        <AxesSubplot:title={'center':'median_income'}>]], dtype=object)"
      ]
     },
     "metadata": {},
     "execution_count": 185
    },
    {
     "output_type": "display_data",
     "data": {
      "image/png": "[encoded data removed]",
      "text/plain": [
       "<Figure size 1440x1080 with 9 Axes>"
      ]
     },
     "metadata": {
      "needs_background": "light"
     }
    }
   ],
   "metadata": {}
  },
  {
   "cell_type": "markdown",
   "source": [
    "## Data preparation and machine learning\r\n",
    "\r\n",
    "Prepare the data.\r\n",
    "\r\n",
    "Create validation set to evaluate the models."
   ],
   "metadata": {}
  },
  {
   "cell_type": "code",
   "execution_count": 186,
   "source": [
    "# Ensure notebook is reproducible\r\n",
    "seed = 42\r\n",
    "np.random.seed(seed)"
   ],
   "outputs": [],
   "metadata": {}
  },
  {
   "cell_type": "code",
   "execution_count": 187,
   "source": [
    "# Remove missing values\r\n",
    "train.total_bedrooms = train.total_bedrooms.fillna(train.total_bedrooms.mean())\r\n",
    "test.total_bedrooms = test.total_bedrooms.fillna(test.total_bedrooms.mean())"
   ],
   "outputs": [],
   "metadata": {}
  },
  {
   "cell_type": "code",
   "execution_count": 188,
   "source": [
    "# Split values\r\n",
    "X_train = train.iloc[:, :-1].values\r\n",
    "y_train = train.iloc[:, [-1]].values\r\n",
    "\r\n",
    "X_test = test.iloc[:, :-1].values\r\n",
    "y_test = test.iloc[:, [-1]].values\r\n"
   ],
   "outputs": [],
   "metadata": {}
  },
  {
   "cell_type": "code",
   "execution_count": 189,
   "source": [
    "# Encode category as numerical data\r\n",
    "le = preprocessing.LabelEncoder()\r\n",
    "y_train = le.fit_transform(y_train)\r\n",
    "y_test = le.fit_transform(y_test)"
   ],
   "outputs": [
    {
     "output_type": "stream",
     "name": "stderr",
     "text": [
      "C:\\Users\\ander\\anaconda3\\envs\\dat158\\lib\\site-packages\\sklearn\\utils\\validation.py:63: DataConversionWarning: A column-vector y was passed when a 1d array was expected. Please change the shape of y to (n_samples, ), for example using ravel().\n",
      "  return f(*args, **kwargs)\n"
     ]
    }
   ],
   "metadata": {}
  },
  {
   "cell_type": "code",
   "execution_count": 190,
   "source": [
    "# Standardize training and test datasets\r\n",
    "scaler = preprocessing.StandardScaler()\r\n",
    "X_train = scaler.fit_transform(X_train)\r\n",
    "X_test = scaler.fit_transform(X_test)\r\n",
    "print(X_train)"
   ],
   "outputs": [
    {
     "output_type": "stream",
     "name": "stdout",
     "text": [
      "[[-1.27826235e+00  9.54452043e-01  8.96464280e-01 ... -4.76899446e-01\n",
      "  -1.82377323e-03 -2.00823809e-01]\n",
      " [-7.04320194e-01  9.45093431e-01  8.96464280e-01 ... -1.13941217e+00\n",
      "   1.83933698e+00 -3.02693003e-01]\n",
      " [ 5.98278964e-01 -8.23684256e-01 -4.53940127e-01 ... -3.75175051e-01\n",
      "   1.41597210e+00  1.31771783e+00]\n",
      " ...\n",
      " [ 9.37653457e-01 -9.59384131e-01 -1.88378009e+00 ...  1.25763190e+00\n",
      "   1.90928695e+00  1.05959165e+00]\n",
      " [ 1.13229471e+00 -7.16060217e-01  1.61138426e+00 ... -1.26982806e+00\n",
      "  -6.85144943e-01 -1.14181891e+00]\n",
      " [-1.09859350e+00  1.10418984e+00 -1.96321564e+00 ...  5.63819362e-01\n",
      "   8.21920918e-01 -1.86678759e-02]]\n"
     ]
    }
   ],
   "metadata": {}
  },
  {
   "cell_type": "code",
   "execution_count": 191,
   "source": [
    "# Perform linear regression\r\n",
    "lin_reg = linear_model.LinearRegression()\r\n",
    "lin_reg.fit(X_train, y_train)\r\n",
    "\r\n",
    "y_pred = lin_reg.predict(X_test)\r\n",
    "\r\n",
    "print(\"Mean square error: %f\" % mean_squared_error(y_test, y_pred))\r\n",
    "print(\"Coefficient of determination: %f\" % r2_score(y_test, y_pred))"
   ],
   "outputs": [
    {
     "output_type": "stream",
     "name": "stdout",
     "text": [
      "Mean square error: 3.149368\n",
      "Coefficient of determination: -1.944844\n"
     ]
    }
   ],
   "metadata": {}
  },
  {
   "cell_type": "code",
   "execution_count": 192,
   "source": [
    "# Perform Decision Tree Regression\r\n",
    "dtreg = tree.DecisionTreeRegressor()\r\n",
    "dtreg.fit(X_train, y_train)\r\n",
    "\r\n",
    "y_pred = dtreg.predict(X_test)\r\n",
    "\r\n",
    "print(\"Mean square error: %f\" % mean_squared_error(y_test, y_pred))\r\n",
    "print(\"Coefficient of determination: %f\" % r2_score(y_test, y_pred))"
   ],
   "outputs": [
    {
     "output_type": "stream",
     "name": "stdout",
     "text": [
      "Mean square error: 3.982800\n",
      "Coefficient of determination: -2.724153\n"
     ]
    }
   ],
   "metadata": {}
  },
  {
   "cell_type": "code",
   "execution_count": 202,
   "source": [
    "def MSE (theta0, theta1):\r\n",
    "    error = 0\r\n",
    "    for xi, yi in zip(X, y):\r\n",
    "        yhat = theta0 + theta1*xi\r\n",
    "        error = (yhat - yi)**2\r\n",
    "    return error/len(X)\r\n",
    "\r\n",
    "print(MSE(y_test, y_pred))"
   ],
   "outputs": [
    {
     "output_type": "error",
     "ename": "ValueError",
     "evalue": "operands could not be broadcast together with shapes (4128,) (9,) ",
     "traceback": [
      "\u001b[1;31m---------------------------------------------------------------------------\u001b[0m",
      "\u001b[1;31mValueError\u001b[0m                                Traceback (most recent call last)",
      "\u001b[1;32m~\\AppData\\Local\\Temp/ipykernel_24024/3975378570.py\u001b[0m in \u001b[0;36m<module>\u001b[1;34m\u001b[0m\n\u001b[0;32m      6\u001b[0m     \u001b[1;32mreturn\u001b[0m \u001b[0merror\u001b[0m\u001b[1;33m/\u001b[0m\u001b[0mlen\u001b[0m\u001b[1;33m(\u001b[0m\u001b[0mX_train\u001b[0m\u001b[1;33m)\u001b[0m\u001b[1;33m\u001b[0m\u001b[1;33m\u001b[0m\u001b[0m\n\u001b[0;32m      7\u001b[0m \u001b[1;33m\u001b[0m\u001b[0m\n\u001b[1;32m----> 8\u001b[1;33m \u001b[0mprint\u001b[0m\u001b[1;33m(\u001b[0m\u001b[0mMSE\u001b[0m\u001b[1;33m(\u001b[0m\u001b[0my_test\u001b[0m\u001b[1;33m,\u001b[0m \u001b[0my_pred\u001b[0m\u001b[1;33m)\u001b[0m\u001b[1;33m)\u001b[0m\u001b[1;33m\u001b[0m\u001b[1;33m\u001b[0m\u001b[0m\n\u001b[0m",
      "\u001b[1;32m~\\AppData\\Local\\Temp/ipykernel_24024/3975378570.py\u001b[0m in \u001b[0;36mMSE\u001b[1;34m(theta0, theta1)\u001b[0m\n\u001b[0;32m      2\u001b[0m     \u001b[0merror\u001b[0m \u001b[1;33m=\u001b[0m \u001b[1;36m0\u001b[0m\u001b[1;33m\u001b[0m\u001b[1;33m\u001b[0m\u001b[0m\n\u001b[0;32m      3\u001b[0m     \u001b[1;32mfor\u001b[0m \u001b[0mxi\u001b[0m\u001b[1;33m,\u001b[0m \u001b[0myi\u001b[0m \u001b[1;32min\u001b[0m \u001b[0mzip\u001b[0m\u001b[1;33m(\u001b[0m\u001b[0mX_train\u001b[0m\u001b[1;33m,\u001b[0m \u001b[0my_train\u001b[0m\u001b[1;33m)\u001b[0m\u001b[1;33m:\u001b[0m\u001b[1;33m\u001b[0m\u001b[1;33m\u001b[0m\u001b[0m\n\u001b[1;32m----> 4\u001b[1;33m         \u001b[0myhat\u001b[0m \u001b[1;33m=\u001b[0m \u001b[0mtheta0\u001b[0m \u001b[1;33m+\u001b[0m \u001b[0mtheta1\u001b[0m\u001b[1;33m*\u001b[0m\u001b[0mxi\u001b[0m\u001b[1;33m\u001b[0m\u001b[1;33m\u001b[0m\u001b[0m\n\u001b[0m\u001b[0;32m      5\u001b[0m         \u001b[0merror\u001b[0m \u001b[1;33m=\u001b[0m \u001b[1;33m(\u001b[0m\u001b[0myhat\u001b[0m \u001b[1;33m-\u001b[0m \u001b[0myi\u001b[0m\u001b[1;33m)\u001b[0m\u001b[1;33m**\u001b[0m\u001b[1;36m2\u001b[0m\u001b[1;33m\u001b[0m\u001b[1;33m\u001b[0m\u001b[0m\n\u001b[0;32m      6\u001b[0m     \u001b[1;32mreturn\u001b[0m \u001b[0merror\u001b[0m\u001b[1;33m/\u001b[0m\u001b[0mlen\u001b[0m\u001b[1;33m(\u001b[0m\u001b[0mX_train\u001b[0m\u001b[1;33m)\u001b[0m\u001b[1;33m\u001b[0m\u001b[1;33m\u001b[0m\u001b[0m\n",
      "\u001b[1;31mValueError\u001b[0m: operands could not be broadcast together with shapes (4128,) (9,) "
     ]
    }
   ],
   "metadata": {}
  },
  {
   "cell_type": "markdown",
   "source": [
    "## Submission"
   ],
   "metadata": {}
  },
  {
   "cell_type": "code",
   "execution_count": 193,
   "source": [
    "median_house_value = [0 for i in test['Id']] "
   ],
   "outputs": [],
   "metadata": {}
  },
  {
   "cell_type": "code",
   "execution_count": 194,
   "source": [
    "len(median_house_value)"
   ],
   "outputs": [
    {
     "output_type": "execute_result",
     "data": {
      "text/plain": [
       "4128"
      ]
     },
     "metadata": {},
     "execution_count": 194
    }
   ],
   "metadata": {}
  },
  {
   "cell_type": "code",
   "execution_count": 195,
   "source": [
    "median_house_value[:10]"
   ],
   "outputs": [
    {
     "output_type": "execute_result",
     "data": {
      "text/plain": [
       "[0, 0, 0, 0, 0, 0, 0, 0, 0, 0]"
      ]
     },
     "metadata": {},
     "execution_count": 195
    }
   ],
   "metadata": {}
  },
  {
   "cell_type": "code",
   "execution_count": 196,
   "source": [
    "submission = pd.DataFrame({'Id': test['Id'], 'median_house_value': y_pred})"
   ],
   "outputs": [],
   "metadata": {}
  },
  {
   "cell_type": "code",
   "execution_count": 197,
   "source": [
    "submission.head()"
   ],
   "outputs": [
    {
     "output_type": "execute_result",
     "data": {
      "text/html": [
       "<div>\n",
       "<style scoped>\n",
       "    .dataframe tbody tr th:only-of-type {\n",
       "        vertical-align: middle;\n",
       "    }\n",
       "\n",
       "    .dataframe tbody tr th {\n",
       "        vertical-align: top;\n",
       "    }\n",
       "\n",
       "    .dataframe thead th {\n",
       "        text-align: right;\n",
       "    }\n",
       "</style>\n",
       "<table border=\"1\" class=\"dataframe\">\n",
       "  <thead>\n",
       "    <tr style=\"text-align: right;\">\n",
       "      <th></th>\n",
       "      <th>Id</th>\n",
       "      <th>median_house_value</th>\n",
       "    </tr>\n",
       "  </thead>\n",
       "  <tbody>\n",
       "    <tr>\n",
       "      <th>0</th>\n",
       "      <td>0</td>\n",
       "      <td>4.0</td>\n",
       "    </tr>\n",
       "    <tr>\n",
       "      <th>1</th>\n",
       "      <td>1</td>\n",
       "      <td>4.0</td>\n",
       "    </tr>\n",
       "    <tr>\n",
       "      <th>2</th>\n",
       "      <td>2</td>\n",
       "      <td>4.0</td>\n",
       "    </tr>\n",
       "    <tr>\n",
       "      <th>3</th>\n",
       "      <td>3</td>\n",
       "      <td>4.0</td>\n",
       "    </tr>\n",
       "    <tr>\n",
       "      <th>4</th>\n",
       "      <td>4</td>\n",
       "      <td>4.0</td>\n",
       "    </tr>\n",
       "  </tbody>\n",
       "</table>\n",
       "</div>"
      ],
      "text/plain": [
       "   Id  median_house_value\n",
       "0   0                 4.0\n",
       "1   1                 4.0\n",
       "2   2                 4.0\n",
       "3   3                 4.0\n",
       "4   4                 4.0"
      ]
     },
     "metadata": {},
     "execution_count": 197
    }
   ],
   "metadata": {}
  },
  {
   "cell_type": "code",
   "execution_count": 198,
   "source": [
    "submission.to_csv('submission.csv', index=False)"
   ],
   "outputs": [],
   "metadata": {}
  }
 ],
 "metadata": {
  "orig_nbformat": 4,
  "language_info": {
   "name": "python",
   "version": "3.9.6",
   "mimetype": "text/x-python",
   "codemirror_mode": {
    "name": "ipython",
    "version": 3
   },
   "pygments_lexer": "ipython3",
   "nbconvert_exporter": "python",
   "file_extension": ".py"
  },
  "kernelspec": {
   "name": "python3",
   "display_name": "Python 3.9.6 64-bit ('dat158': conda)"
  },
  "interpreter": {
   "hash": "161362581c5e242698d3103ed4f70d59c0b4c9ba59e6a7878f60943ef00e1f3c"
  }
 },
 "nbformat": 4,
 "nbformat_minor": 2
}