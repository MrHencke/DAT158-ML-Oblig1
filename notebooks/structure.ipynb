{
 "cells": [
  {
   "cell_type": "markdown",
   "source": [
    "# DAT158 ML Oblig 1: End-to-end machine learning"
   ],
   "metadata": {}
  },
  {
   "cell_type": "markdown",
   "source": [
    "## Table of Contents\n",
    "1. [Framing the problem](#framing)\n",
    "2. [Getting the data](#data-gather)\n",
    "3. [Data Exploration](#data-explore)\n",
    "4. [Data Preparation (Pipelining)](#pipelining)\n",
    "5. [Model Exploration](#models) <br/>\n",
    "5.1 [Linear Regression](#linreg) <br/>\n",
    "5.2 [Random Forest Regressor](#rfg) <br/>\n",
    "5.3 [XGBoost Regressor](#xgb)\n",
    "6. [Fine Tuning/Selection](#tuning-select)\n",
    "7. [Presentation/Exports](#presentation)\n",
    "8. [Sources and Credits ](#creds)"
   ],
   "metadata": {}
  },
  {
   "cell_type": "markdown",
   "source": [
    "## Example <a name=\"pointer1\"></a>"
   ],
   "metadata": {}
  },
  {
   "cell_type": "markdown",
   "source": [
    "## Example2 <a id=\"creds\"></a>\n",
    "\n",
    "Hello world!"
   ],
   "metadata": {}
  }
 ],
 "metadata": {
  "orig_nbformat": 4,
  "language_info": {
   "name": "python"
  }
 },
 "nbformat": 4,
 "nbformat_minor": 2
}