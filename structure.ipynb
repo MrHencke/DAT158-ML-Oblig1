{
 "cells": [
  {
   "cell_type": "code",
   "execution_count": null,
   "source": [
    "Required structure:\n",
    "\n",
    "1. Frame the problem and look at the big picture\n",
    "2. Get the data\n",
    "3. Explore the data to gain insights\n",
    "4. Prepare the data to better expose the underlying data patterns to machine learning algorithms\n",
    "5. Explore many different models and short-list the best ones\n",
    "6. Fine-tune your models and combine them into a great solution\n",
    "7. Present your solution\n",
    "8. Launch, monitor, and maintain your system\n"
   ],
   "outputs": [],
   "metadata": {}
  },
  {
   "cell_type": "markdown",
   "source": [
    "# Table of Contents\n",
    "1. [Framing the problem](#framing)\n",
    "2. [Getting the data](#data-gather)\n",
    "3. [Data Exploration](#data-explore)\n",
    "4. [Data Preparation (Pipelining)](#pipelining)\n",
    "5. [Model Exploration](#models) <br/>\n",
    "    5.1 [Linear Regression](#linreg) <br/>\n",
    "    5.2 [Random Forest Regressor](#rfg) <br/>\n",
    "    5.3 [XGBoost Regressor](#xgb) <br/>\n",
    "6. [Model Exploration Fine Tuning/Selection](#tuning-select)\n",
    "7. [Presentation/Exports](#presentation)\n",
    "8. [Sources and Credits ](#creds)\n"
   ],
   "metadata": {}
  },
  {
   "cell_type": "markdown",
   "source": [
    "# Example <a name=\"pointer1\"></a>"
   ],
   "metadata": {}
  },
  {
   "cell_type": "code",
   "execution_count": null,
   "source": [
    "\"\"\"\n",
    "\n",
    "\n",
    "\n",
    "\n",
    "\n",
    "\n",
    "\n",
    "\n",
    "\n",
    "\n",
    "\n",
    "\n",
    "\n",
    "\n",
    "\n",
    "\n",
    "\n",
    "\n",
    "\n",
    "\n",
    "\n",
    "\n",
    "\n",
    "\n",
    "\n",
    "\n",
    "\n",
    "\n",
    "\n",
    "\n",
    "\n",
    "\n",
    "\n",
    "\n",
    "\n",
    "\n",
    "\n",
    "\n",
    "\n",
    "\n",
    "\n",
    "\n",
    "\n",
    "\n",
    "\n",
    "\n",
    "\n",
    "\n",
    "\n",
    "\n",
    "\n",
    "\n",
    "\n",
    "f\"\"\""
   ],
   "outputs": [],
   "metadata": {}
  },
  {
   "cell_type": "markdown",
   "source": [
    "## Example2 <a name=\"creds\"></a>\n",
    "\n",
    "Hello tewst"
   ],
   "metadata": {}
  }
 ],
 "metadata": {
  "orig_nbformat": 4,
  "language_info": {
   "name": "python"
  }
 },
 "nbformat": 4,
 "nbformat_minor": 2
}